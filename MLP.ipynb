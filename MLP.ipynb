{
 "cells": [
  {
   "cell_type": "code",
   "execution_count": 129,
   "metadata": {},
   "outputs": [],
   "source": [
    "from sklearn.preprocessing import MinMaxScaler\n",
    "from sklearn.preprocessing import RobustScaler\n",
    "from sklearn.preprocessing import Normalizer\n",
    "from sklearn.preprocessing import StandardScaler\n",
    "\n",
    "from sklearn.feature_selection import SelectKBest\n",
    "from sklearn.feature_selection import chi2\n",
    "from sklearn.feature_selection import f_classif\n",
    "from sklearn.feature_selection import mutual_info_classif\n",
    "\n",
    "from sklearn.neural_network import MLPRegressor\n",
    "\n",
    "\n",
    "from sklearn.model_selection import GridSearchCV\n",
    "from sklearn.pipeline import make_pipeline \n",
    "\n",
    "import helper_RF as l"
   ]
  },
  {
   "cell_type": "code",
   "execution_count": 130,
   "metadata": {},
   "outputs": [],
   "source": [
    "### Multi-layer Perceptron\n",
    "mod = MLPRegressor(random_state=0)\n",
    "\n",
    "scal = RobustScaler()\n",
    "select_k_best = SelectKBest(f_classif)\n",
    "m_pipe = make_pipeline(scal, select_k_best, mod)\n",
    "\n",
    "m_param_grid = {'selectkbest__k':range(5, 25),\n",
    "                'mlpregressor__activation':['relu', 'logistic'], \n",
    "                'mlpregressor__learning_rate':['adaptive'],\n",
    "                'mlpregressor__solver':['lbfgs', 'adam'],\n",
    "                'mlpregressor__hidden_layer_sizes':[(33,33,33)]}\n",
    "#mod.early_stopping=True # terminate training when validation score is not improving\n",
    "mod.shuffle=True # shuffle samples when training\n",
    "\n",
    "\n",
    "mlp = GridSearchCV(m_pipe, m_param_grid, cv=3, n_jobs=-1)"
   ]
  }
 ],
 "metadata": {
  "kernelspec": {
   "display_name": "Python 3",
   "language": "python",
   "name": "python3"
  },
  "language_info": {
   "codemirror_mode": {
    "name": "ipython",
    "version": 3
   },
   "file_extension": ".py",
   "mimetype": "text/x-python",
   "name": "python",
   "nbconvert_exporter": "python",
   "pygments_lexer": "ipython3",
   "version": "3.7.1"
  }
 },
 "nbformat": 4,
 "nbformat_minor": 2
}
