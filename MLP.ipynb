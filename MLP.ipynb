{
 "cells": [
  {
   "cell_type": "code",
   "execution_count": 10,
   "metadata": {},
   "outputs": [],
   "source": [
    "#%run KNN_Model.ipynb\n",
    "#import import_ipynb\n",
    "#import RFR_model;"
   ]
  },
  {
   "cell_type": "code",
   "execution_count": 61,
   "metadata": {},
   "outputs": [],
   "source": [
    "import math\n",
    "from datetime import datetime\n",
    "import numpy as np\n",
    "import pandas as pd\n",
    "import seaborn as sns # for visualiation\n",
    "import matplotlib.pyplot as plt # plotting\n",
    "import matplotlib\n",
    "matplotlib.style.use('ggplot')\n",
    "%matplotlib inline\n",
    "\n",
    "df = pd.read_csv('./facebook_with_reactions.csv')\n",
    "outcomes = df[['Rating']]\n",
    "\n",
    "## drop useless columns \n",
    "df = df.drop(columns=['Debate', 'status_link', 'permalink_url', 'Post URL', \n",
    "                      'status_message', 'link_name', 'share_count', 'Unnamed: 0', 'account_id',\n",
    "                      'status_id', 'status_type', 'status_published', 'post_id', 'reaction_count', 'Date Published'])\n",
    "\n",
    "## change Rating to numeric for classification\n",
    "df['Rating2'] = df.Rating.replace(['mostly false', 'no factual content', 'mixture of true and false', 'mostly true'], [0,1,2,3])\n",
    "df.Rating = df.Rating2.replace([0,1,2,3], [0,0,0,1]).astype(int)\n",
    "\n",
    "\n",
    "\n",
    "## remove spaces in columns\n",
    "df.columns = [c.replace(' ', '_') for c in df.columns]\n",
    "\n",
    "## make dummy columns (make categories numeric)\n",
    "df = pd.get_dummies(df)"
   ]
  },
  {
   "cell_type": "code",
   "execution_count": 82,
   "metadata": {},
   "outputs": [
    {
     "data": {
      "text/plain": [
       "Index(['Rating', 'comment_count', 'num_reactions', 'num_comments',\n",
       "       'num_shares', 'num_likes', 'num_loves', 'num_wows', 'num_hahas',\n",
       "       'num_sads', 'num_angrys', 'Rating2', 'Category_left',\n",
       "       'Category_mainstream', 'Category_right', 'Page_ABC News Politics',\n",
       "       'Page_Addicting Info', 'Page_CNN Politics', 'Page_Eagle Rising',\n",
       "       'Page_Occupy Democrats', 'Page_Politico', 'Page_Right Wing News',\n",
       "       'Page_The Other 98%', 'Post_Type_link', 'Post_Type_photo',\n",
       "       'Post_Type_text', 'Post_Type_video'],\n",
       "      dtype='object')"
      ]
     },
     "execution_count": 82,
     "metadata": {},
     "output_type": "execute_result"
    }
   ],
   "source": [
    "df.columns"
   ]
  },
  {
   "cell_type": "code",
   "execution_count": 75,
   "metadata": {},
   "outputs": [],
   "source": [
    "from sklearn.linear_model import LogisticRegression\n",
    "from sklearn.model_selection import train_test_split\n",
    "\n",
    "tr_feat, test_feat, tr_out, test_out = train_test_split(\n",
    "   df.drop(columns=['Rating', 'Rating2']),      # features\n",
    "   df.Rating,    # outcome\n",
    "   random_state=0,\n",
    "   test_size=0.20, # percentage of data to use as the test set\n",
    "   \n",
    ")\n",
    "\n",
    "tr2_feat, test2_feat, tr2_out, test2_out = train_test_split(\n",
    "   df.drop(columns=['Rating', 'Rating2']),      # features\n",
    "   df.Rating2,    # outcome\n",
    "   random_state=0,\n",
    "   test_size=0.20, # percentage of data to use as the test set\n",
    "   \n",
    ")"
   ]
  },
  {
   "cell_type": "code",
   "execution_count": null,
   "metadata": {},
   "outputs": [],
   "source": []
  },
  {
   "cell_type": "code",
   "execution_count": 27,
   "metadata": {},
   "outputs": [],
   "source": [
    "from sklearn.preprocessing import MinMaxScaler\n",
    "from sklearn.preprocessing import RobustScaler\n",
    "from sklearn.preprocessing import Normalizer\n",
    "from sklearn.preprocessing import StandardScaler\n",
    "\n",
    "from sklearn.feature_selection import SelectKBest\n",
    "from sklearn.feature_selection import chi2\n",
    "from sklearn.feature_selection import f_classif\n",
    "from sklearn.feature_selection import mutual_info_classif\n",
    "\n",
    "from sklearn.neural_network import MLPRegressor\n",
    "\n",
    "\n",
    "from sklearn.model_selection import GridSearchCV\n",
    "from sklearn.pipeline import make_pipeline \n",
    "\n",
    "import helper_RF as l"
   ]
  },
  {
   "cell_type": "code",
   "execution_count": 93,
   "metadata": {},
   "outputs": [
    {
     "data": {
      "text/plain": [
       "0.3815456496887665"
      ]
     },
     "execution_count": 93,
     "metadata": {},
     "output_type": "execute_result"
    }
   ],
   "source": [
    "### Multi-layer Perceptron\n",
    "mod = MLPRegressor(random_state=0)\n",
    "\n",
    "scal = RobustScaler()\n",
    "select_k_best = SelectKBest(f_classif)\n",
    "m_pipe = make_pipeline(scal, select_k_best, mod)\n",
    "\n",
    "m_param_grid = {'selectkbest__k':range(5, 25),\n",
    "                'mlpregressor__activation':['relu', 'logistic'], \n",
    "                'mlpregressor__learning_rate':['adaptive'],\n",
    "                'mlpregressor__solver':['lbfgs', 'adam'],\n",
    "                'mlpregressor__hidden_layer_sizes':[(33,33,33)]}\n",
    "#mod.early_stopping=True # terminate training when validation score is not improving\n",
    "mod.shuffle=True # shuffle samples when training\n",
    "\n",
    "mlp_2class = GridSearchCV(m_pipe, m_param_grid, cv=3, n_jobs=-1)\n",
    "mlp_2class.fit(tr_feat, tr_out);\n",
    "mlp_2class.score(test_feat, test_out)"
   ]
  },
  {
   "cell_type": "code",
   "execution_count": 94,
   "metadata": {},
   "outputs": [
    {
     "data": {
      "text/plain": [
       "{'mlpregressor__activation': 'logistic',\n",
       " 'mlpregressor__hidden_layer_sizes': (33, 33, 33),\n",
       " 'mlpregressor__learning_rate': 'adaptive',\n",
       " 'mlpregressor__solver': 'adam',\n",
       " 'selectkbest__k': 24}"
      ]
     },
     "execution_count": 94,
     "metadata": {},
     "output_type": "execute_result"
    }
   ],
   "source": [
    "mlp_2class.best_params_"
   ]
  },
  {
   "cell_type": "code",
   "execution_count": 95,
   "metadata": {},
   "outputs": [],
   "source": [
    "mlp_4class = GridSearchCV(m_pipe, m_param_grid, cv=3, n_jobs=-1)\n",
    "mlp_4class.fit(tr2_feat, tr2_out);"
   ]
  },
  {
   "cell_type": "code",
   "execution_count": 96,
   "metadata": {},
   "outputs": [
    {
     "data": {
      "text/plain": [
       "0.34434484594317605"
      ]
     },
     "execution_count": 96,
     "metadata": {},
     "output_type": "execute_result"
    }
   ],
   "source": [
    "mlp_4class.score(test2_feat, test2_out)"
   ]
  },
  {
   "cell_type": "code",
   "execution_count": 101,
   "metadata": {},
   "outputs": [
    {
     "data": {
      "text/plain": [
       "<matplotlib.collections.PathCollection at 0x1c967870>"
      ]
     },
     "execution_count": 101,
     "metadata": {},
     "output_type": "execute_result"
    },
    {
     "data": {
      "image/png": "[encoded data removed]",
      "text/plain": [
       "<Figure size 432x288 with 1 Axes>"
      ]
     },
     "metadata": {
      "needs_background": "light"
     },
     "output_type": "display_data"
    }
   ],
   "source": [
    "plt.title('test')\n",
    "plt.scatter(test2_out, test_out)"
   ]
  }
 ],
 "metadata": {
  "kernelspec": {
   "display_name": "Python 3",
   "language": "python",
   "name": "python3"
  },
  "language_info": {
   "codemirror_mode": {
    "name": "ipython",
    "version": 3
   },
   "file_extension": ".py",
   "mimetype": "text/x-python",
   "name": "python",
   "nbconvert_exporter": "python",
   "pygments_lexer": "ipython3",
   "version": "3.7.1"
  }
 },
 "nbformat": 4,
 "nbformat_minor": 2
}
