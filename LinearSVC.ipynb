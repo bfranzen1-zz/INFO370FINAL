{
 "cells": [
  {
   "cell_type": "markdown",
   "metadata": {},
   "source": [
    "# LinearSVC"
   ]
  },
  {
   "cell_type": "code",
   "execution_count": 46,
   "metadata": {},
   "outputs": [],
   "source": [
    "from sklearn.svm import LinearSVC\n",
    "import matplotlib.pyplot as plt\n",
    "from sklearn.preprocessing import MinMaxScaler       # scaling data\n",
    "from sklearn.neighbors import KNeighborsRegressor    # regressor\n",
    "from sklearn.model_selection import GridSearchCV     # for grid search\n",
    "from sklearn.pipeline import make_pipeline           # for making pipelines\n",
    "from sklearn.feature_selection import SelectKBest\n",
    "from sklearn.feature_selection import f_regression\n",
    "from sklearn.feature_selection import mutual_info_regression\n",
    "from sklearn.metrics import mean_absolute_error\n",
    "from sklearn.preprocessing import PolynomialFeatures\n",
    "from sklearn.linear_model import LinearRegression\n",
    "from sklearn.model_selection import KFold\n",
    "from sklearn.model_selection import cross_val_score, train_test_split\n",
    "from sklearn.ensemble import RandomForestClassifier\n",
    "from sklearn.feature_selection import SelectFromModel\n",
    "import warnings\n",
    "warnings.filterwarnings('ignore') "
   ]
  },
  {
   "cell_type": "markdown",
   "metadata": {},
   "source": [
    "## Import Data and Packages"
   ]
  },
  {
   "cell_type": "code",
   "execution_count": 25,
   "metadata": {},
   "outputs": [],
   "source": [
    "import math\n",
    "from datetime import datetime\n",
    "import numpy as np\n",
    "import pandas as pd\n",
    "import seaborn as sns # for visualiation\n",
    "import matplotlib.pyplot as plt # plotting\n",
    "import matplotlib\n",
    "matplotlib.style.use('ggplot')\n",
    "%matplotlib inline\n",
    "import altair as alt\n",
    "alt.renderers.enable('notebook')\n",
    "\n",
    "df = pd.read_csv('./facebook_with_reactions.csv')\n",
    "outcomes = df[['Rating']]\n",
    "\n",
    "## drop useless columns \n",
    "df = df.drop(columns=['Debate', 'status_link', 'permalink_url', 'Post URL', \n",
    "                      'status_message', 'link_name', 'share_count', 'Unnamed: 0', 'account_id',\n",
    "                      'status_id', 'status_type', 'status_published'])\n",
    "\n",
    "## remove spaces in columns\n",
    "df.columns = [c.replace(' ', '_') for c in df.columns]\n",
    "\n",
    "## Create copy of data for modeling\n",
    "model_data = df.copy()\n",
    "\n",
    "## change Rating to numeric for classification\n",
    "model_data.Rating = model_data.Rating.replace(['mostly false', 'no factual content', 'mixture of true and false', 'mostly true'], [0,1,2,3]).astype(int)\n",
    "model_data = model_data.drop(columns=['post_id', 'reaction_count'])\n",
    "## make dummy columns (make categories numeric)\n",
    "model_data = pd.get_dummies(model_data)\n",
    "\n",
    "## Make test and validation data\n",
    "df_target=model_data['Rating']\n",
    "df_dropped=model_data\n",
    "df_dropped=df_dropped.drop(columns=['Rating'])"
   ]
  },
  {
   "cell_type": "markdown",
   "metadata": {},
   "source": [
    "## Handle Nulls"
   ]
  },
  {
   "cell_type": "code",
   "execution_count": 26,
   "metadata": {},
   "outputs": [],
   "source": [
    "model_data.fillna(method='ffill',inplace=True)"
   ]
  },
  {
   "cell_type": "markdown",
   "metadata": {},
   "source": [
    "## Feature Selection"
   ]
  },
  {
   "cell_type": "code",
   "execution_count": 30,
   "metadata": {},
   "outputs": [],
   "source": [
    "from boruta import BorutaPy"
   ]
  },
  {
   "cell_type": "code",
   "execution_count": 50,
   "metadata": {},
   "outputs": [
    {
     "data": {
      "text/plain": [
       "[(0.9851900394574168, 'comment_count'),\n",
       " (0.9934614632397851, 'num_reactions'),\n",
       " (0.9851900394574168, 'num_comments'),\n",
       " (0.8796823438566503, 'num_shares'),\n",
       " (0.9934614632397851, 'num_likes'),\n",
       " (0.8499930450155352, 'num_loves'),\n",
       " (0.6848062079499695, 'num_wows'),\n",
       " (0.6070097024781741, 'num_hahas'),\n",
       " (0.7277387574661918, 'num_sads'),\n",
       " (0.7277387574661918, 'num_angrys'),\n",
       " (0.6183634672395973, 'Category_left'),\n",
       " (0.6208150489115978, 'Category_mainstream'),\n",
       " (0.6653217609163748, 'Category_right'),\n",
       " (0.3011850208124464, 'Page_ABC News Politics'),\n",
       " (0.5013979413359474, 'Page_Addicting Info'),\n",
       " (0.45560229277869924, 'Page_CNN Politics'),\n",
       " (0.6653217609163748, 'Page_Eagle Rising'),\n",
       " (0.6183634672395973, 'Page_Occupy Democrats'),\n",
       " (0.5415003234186943, 'Page_Politico'),\n",
       " (0.640983616820896, 'Page_Right Wing News'),\n",
       " (0.4639639937523467, 'Page_The Other 98%'),\n",
       " (0.18256921272417576, 'Date_Published_2016-09-19'),\n",
       " (0.18766955067898947, 'Date_Published_2016-09-20'),\n",
       " (0.18220239292646567, 'Date_Published_2016-09-21'),\n",
       " (0.17925504502097184, 'Date_Published_2016-09-22'),\n",
       " (0.17962473318236002, 'Date_Published_2016-09-23'),\n",
       " (0.20403204023176613, 'Date_Published_2016-09-26'),\n",
       " (0.20403204023176613, 'Date_Published_2016-09-27'),\n",
       " (0.7176264276882516, 'Post_Type_link'),\n",
       " (0.5940945228305337, 'Post_Type_photo'),\n",
       " (0.06824680768480976, 'Post_Type_text'),\n",
       " (0.7176264276882516, 'Post_Type_video')]"
      ]
     },
     "execution_count": 50,
     "metadata": {},
     "output_type": "execute_result"
    }
   ],
   "source": [
    "df_corr = df_dropped.corr()\n",
    "[(sorted(abs(x),reverse=True)[1],y) for (x,y) in zip(df_corr.values,df_corr.index) if sorted(abs(x),reverse=True)[1] > 0.]"
   ]
  },
  {
   "cell_type": "code",
   "execution_count": 38,
   "metadata": {},
   "outputs": [],
   "source": [
    "#svc = LinearSVC()\n",
    "#feat_selector = BorutaPy(svc, n_estimators='auto', verbose=2)\n",
    "final_features = ['']"
   ]
  },
  {
   "cell_type": "markdown",
   "metadata": {},
   "source": [
    "## Pipeline"
   ]
  },
  {
   "cell_type": "code",
   "execution_count": 43,
   "metadata": {},
   "outputs": [],
   "source": [
    "# Split data into training and testing data\n",
    "train_features, test_features, train_outcome, test_outcome = train_test_split(\n",
    "   df_dropped,\n",
    "   df_target,\n",
    "   test_size=0.30\n",
    ")"
   ]
  },
  {
   "cell_type": "code",
   "execution_count": 49,
   "metadata": {},
   "outputs": [
    {
     "data": {
      "text/plain": [
       "0.7676923076923077"
      ]
     },
     "execution_count": 49,
     "metadata": {},
     "output_type": "execute_result"
    }
   ],
   "source": [
    "pipe = make_pipeline(MinMaxScaler(), LinearSVC())\n",
    "param_grid = {}\n",
    "grid = GridSearchCV(pipe, param_grid, cv = KFold(n_splits=10, shuffle=True))\n",
    "grid.fit(train_features, train_outcome)\n",
    "grid.score(test_features, test_outcome)\n",
    "\n",
    "#df_selected_1= feature_selection(df_dropped,df_target,model_data)"
   ]
  }
 ],
 "metadata": {
  "kernelspec": {
   "display_name": "Python 3",
   "language": "python",
   "name": "python3"
  },
  "language_info": {
   "codemirror_mode": {
    "name": "ipython",
    "version": 3
   },
   "file_extension": ".py",
   "mimetype": "text/x-python",
   "name": "python",
   "nbconvert_exporter": "python",
   "pygments_lexer": "ipython3",
   "version": "3.6.5"
  }
 },
 "nbformat": 4,
 "nbformat_minor": 2
}
