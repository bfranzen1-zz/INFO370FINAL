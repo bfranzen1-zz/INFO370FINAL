{
 "cells": [
  {
   "cell_type": "code",
   "execution_count": 1,
   "metadata": {},
   "outputs": [],
   "source": [
    "import math\n",
    "from datetime import datetime\n",
    "import numpy as np\n",
    "import pandas as pd\n",
    "import seaborn as sns # for visualiation\n",
    "import matplotlib.pyplot as plt # plotting\n",
    "import matplotlib\n",
    "matplotlib.style.use('ggplot')\n",
    "%matplotlib inline\n",
    "\n",
    "df = pd.read_csv('./facebook_with_reactions.csv')\n",
    "outcomes = df[['Rating']]\n",
    "\n",
    "## drop useless columns \n",
    "df = df.drop(columns=['Debate', 'status_link', 'permalink_url', 'Post URL', \n",
    "                      'status_message', 'link_name', 'share_count', 'Unnamed: 0', 'account_id',\n",
    "                      'status_id', 'status_type', 'status_published'])\n",
    "\n",
    "## change Rating to numeric for classification\n",
    "df.Rating = df.Rating.replace(['mostly false', 'no factual content', 'mixture of true and false', 'mostly true'], [0,1,2,3]).astype(int)\n",
    "\n",
    "## remove spaces in columns\n",
    "df.columns = [c.replace(' ', '_') for c in df.columns]\n",
    "\n",
    "## make dummy columns (make categories numeric)\n",
    "df = pd.get_dummies(df)"
   ]
  },
  {
   "cell_type": "code",
   "execution_count": 27,
   "metadata": {},
   "outputs": [
    {
     "data": {
      "text/plain": [
       "Rating\n",
       "0      78\n",
       "1     257\n",
       "2     219\n",
       "3    1612\n",
       "Name: account_id, dtype: int64"
      ]
     },
     "execution_count": 27,
     "metadata": {},
     "output_type": "execute_result"
    }
   ],
   "source": [
    "df.groupby('Rating')['account_id'].count()\n",
    "# number of records for each outcome"
   ]
  },
  {
   "cell_type": "code",
   "execution_count": null,
   "metadata": {},
   "outputs": [],
   "source": [
    "# Because the data is unbalanced we need to weight the outcomes differently.\n",
    "# Below is the rough estimates if we were to make each outcome worth the same. \n",
    "# Here we say that `mostly true` is stays the same and all other outcomes are weighted\n",
    "# to equal the same as `mostly true`\n",
    "\n",
    "###### THESE CLASS WEIGHTS ARE SUBJECT TO CHANGE BASED ON MODEL PERFORMANCE ######\n",
    "\n",
    "## mostly true = 1\n",
    "## mix of T/F ~ 7\n",
    "## mostly false ~ 21\n",
    "## no facts ~ 6\n",
    "\n",
    "class_weight = {0: 21.,\n",
    "                1: 6.,\n",
    "                2: 7.,\n",
    "                3: 1.}\n",
    "\n",
    "## insert above parameter into .fit() function of model as **class_weight**"
   ]
  },
  {
   "cell_type": "code",
   "execution_count": 53,
   "metadata": {},
   "outputs": [
    {
     "data": {
      "text/plain": [
       "Index(['post_id', 'Rating', 'reaction_count', 'comment_count', 'num_reactions',\n",
       "       'num_comments', 'num_shares', 'num_likes', 'num_loves', 'num_wows',\n",
       "       'num_hahas', 'num_sads', 'num_angrys', 'Category_left',\n",
       "       'Category_mainstream', 'Category_right', 'Page_ABC News Politics',\n",
       "       'Page_Addicting Info', 'Page_CNN Politics', 'Page_Eagle Rising',\n",
       "       'Page_Occupy Democrats', 'Page_Politico', 'Page_Right Wing News',\n",
       "       'Page_The Other 98%', 'Date_Published_2016-09-19',\n",
       "       'Date_Published_2016-09-20', 'Date_Published_2016-09-21',\n",
       "       'Date_Published_2016-09-22', 'Date_Published_2016-09-23',\n",
       "       'Date_Published_2016-09-26', 'Date_Published_2016-09-27',\n",
       "       'Post_Type_link', 'Post_Type_photo', 'Post_Type_text',\n",
       "       'Post_Type_video'],\n",
       "      dtype='object')"
      ]
     },
     "execution_count": 53,
     "metadata": {},
     "output_type": "execute_result"
    }
   ],
   "source": [
    "df.columns"
   ]
  }
 ],
 "metadata": {
  "kernelspec": {
   "display_name": "Python 3",
   "language": "python",
   "name": "python3"
  },
  "language_info": {
   "codemirror_mode": {
    "name": "ipython",
    "version": 3
   },
   "file_extension": ".py",
   "mimetype": "text/x-python",
   "name": "python",
   "nbconvert_exporter": "python",
   "pygments_lexer": "ipython3",
   "version": "3.6.0"
  }
 },
 "nbformat": 4,
 "nbformat_minor": 2
}
