{
 "cells": [
  {
   "cell_type": "code",
   "execution_count": 2,
   "metadata": {},
   "outputs": [],
   "source": [
    "import math\n",
    "from datetime import datetime\n",
    "import numpy as np\n",
    "import pandas as pd\n",
    "import seaborn as sns # for visualiation\n",
    "import matplotlib.pyplot as plt # plotting\n",
    "import matplotlib\n",
    "matplotlib.style.use('ggplot')\n",
    "%matplotlib inline\n",
    "\n",
    "df = pd.read_csv('./facebook_with_reactions.csv')\n",
    "outcomes = df[['Rating']]\n",
    "\n",
    "## drop useless columns \n",
    "df = df.drop(columns=['Debate', 'status_link', 'permalink_url', 'Post URL', \n",
    "                      'status_message', 'link_name', 'share_count', 'Unnamed: 0', 'account_id',\n",
    "                      'status_id', 'status_type', 'status_published', 'post_id', 'reaction_count'])\n",
    "\n",
    "## change Rating to numeric for classification\n",
    "df.Rating = df.Rating.replace(['mostly false', 'no factual content', 'mixture of true and false', 'mostly true'], [0,0,0,1]).astype(int)\n",
    "\n",
    "## remove spaces in columns\n",
    "df.columns = [c.replace(' ', '_') for c in df.columns]\n",
    "\n",
    "## make dummy columns (make categories numeric)\n",
    "df = pd.get_dummies(df)"
   ]
  },
  {
   "cell_type": "code",
   "execution_count": 3,
   "metadata": {},
   "outputs": [
    {
     "data": {
      "text/html": [
       "<div>\n",
       "<style scoped>\n",
       "    .dataframe tbody tr th:only-of-type {\n",
       "        vertical-align: middle;\n",
       "    }\n",
       "\n",
       "    .dataframe tbody tr th {\n",
       "        vertical-align: top;\n",
       "    }\n",
       "\n",
       "    .dataframe thead th {\n",
       "        text-align: right;\n",
       "    }\n",
       "</style>\n",
       "<table border=\"1\" class=\"dataframe\">\n",
       "  <thead>\n",
       "    <tr style=\"text-align: right;\">\n",
       "      <th></th>\n",
       "      <th>comment_count</th>\n",
       "      <th>num_reactions</th>\n",
       "      <th>num_comments</th>\n",
       "      <th>num_shares</th>\n",
       "      <th>num_likes</th>\n",
       "      <th>num_loves</th>\n",
       "      <th>num_wows</th>\n",
       "      <th>num_hahas</th>\n",
       "      <th>num_sads</th>\n",
       "      <th>num_angrys</th>\n",
       "      <th>...</th>\n",
       "      <th>Date_Published_2016-09-20</th>\n",
       "      <th>Date_Published_2016-09-21</th>\n",
       "      <th>Date_Published_2016-09-22</th>\n",
       "      <th>Date_Published_2016-09-23</th>\n",
       "      <th>Date_Published_2016-09-26</th>\n",
       "      <th>Date_Published_2016-09-27</th>\n",
       "      <th>Post_Type_link</th>\n",
       "      <th>Post_Type_photo</th>\n",
       "      <th>Post_Type_text</th>\n",
       "      <th>Post_Type_video</th>\n",
       "    </tr>\n",
       "    <tr>\n",
       "      <th>Rating</th>\n",
       "      <th></th>\n",
       "      <th></th>\n",
       "      <th></th>\n",
       "      <th></th>\n",
       "      <th></th>\n",
       "      <th></th>\n",
       "      <th></th>\n",
       "      <th></th>\n",
       "      <th></th>\n",
       "      <th></th>\n",
       "      <th></th>\n",
       "      <th></th>\n",
       "      <th></th>\n",
       "      <th></th>\n",
       "      <th></th>\n",
       "      <th></th>\n",
       "      <th></th>\n",
       "      <th></th>\n",
       "      <th></th>\n",
       "      <th></th>\n",
       "      <th></th>\n",
       "    </tr>\n",
       "  </thead>\n",
       "  <tbody>\n",
       "    <tr>\n",
       "      <th>0</th>\n",
       "      <td>554</td>\n",
       "      <td>554</td>\n",
       "      <td>554</td>\n",
       "      <td>554</td>\n",
       "      <td>554</td>\n",
       "      <td>554</td>\n",
       "      <td>554</td>\n",
       "      <td>554</td>\n",
       "      <td>554</td>\n",
       "      <td>554</td>\n",
       "      <td>...</td>\n",
       "      <td>554</td>\n",
       "      <td>554</td>\n",
       "      <td>554</td>\n",
       "      <td>554</td>\n",
       "      <td>554</td>\n",
       "      <td>554</td>\n",
       "      <td>554</td>\n",
       "      <td>554</td>\n",
       "      <td>554</td>\n",
       "      <td>554</td>\n",
       "    </tr>\n",
       "    <tr>\n",
       "      <th>1</th>\n",
       "      <td>1612</td>\n",
       "      <td>1612</td>\n",
       "      <td>1612</td>\n",
       "      <td>1612</td>\n",
       "      <td>1612</td>\n",
       "      <td>1612</td>\n",
       "      <td>1612</td>\n",
       "      <td>1612</td>\n",
       "      <td>1612</td>\n",
       "      <td>1612</td>\n",
       "      <td>...</td>\n",
       "      <td>1612</td>\n",
       "      <td>1612</td>\n",
       "      <td>1612</td>\n",
       "      <td>1612</td>\n",
       "      <td>1612</td>\n",
       "      <td>1612</td>\n",
       "      <td>1612</td>\n",
       "      <td>1612</td>\n",
       "      <td>1612</td>\n",
       "      <td>1612</td>\n",
       "    </tr>\n",
       "  </tbody>\n",
       "</table>\n",
       "<p>2 rows × 32 columns</p>\n",
       "</div>"
      ],
      "text/plain": [
       "        comment_count  num_reactions  num_comments  num_shares  num_likes  \\\n",
       "Rating                                                                      \n",
       "0                 554            554           554         554        554   \n",
       "1                1612           1612          1612        1612       1612   \n",
       "\n",
       "        num_loves  num_wows  num_hahas  num_sads  num_angrys       ...         \\\n",
       "Rating                                                             ...          \n",
       "0             554       554        554       554         554       ...          \n",
       "1            1612      1612       1612      1612        1612       ...          \n",
       "\n",
       "        Date_Published_2016-09-20  Date_Published_2016-09-21  \\\n",
       "Rating                                                         \n",
       "0                             554                        554   \n",
       "1                            1612                       1612   \n",
       "\n",
       "        Date_Published_2016-09-22  Date_Published_2016-09-23  \\\n",
       "Rating                                                         \n",
       "0                             554                        554   \n",
       "1                            1612                       1612   \n",
       "\n",
       "        Date_Published_2016-09-26  Date_Published_2016-09-27  Post_Type_link  \\\n",
       "Rating                                                                         \n",
       "0                             554                        554             554   \n",
       "1                            1612                       1612            1612   \n",
       "\n",
       "        Post_Type_photo  Post_Type_text  Post_Type_video  \n",
       "Rating                                                    \n",
       "0                   554             554              554  \n",
       "1                  1612            1612             1612  \n",
       "\n",
       "[2 rows x 32 columns]"
      ]
     },
     "execution_count": 3,
     "metadata": {},
     "output_type": "execute_result"
    }
   ],
   "source": [
    "#df = df.drop(df.query('Rating == 1').sample(frac=.5).index)\n",
    "df.groupby('Rating').count()\n",
    "# number of records for each outcome"
   ]
  },
  {
   "cell_type": "code",
   "execution_count": 347,
   "metadata": {},
   "outputs": [],
   "source": [
    "# Because the data is unbalanced we need to weight the outcomes differently.\n",
    "# Below is the rough estimates if we were to make each outcome worth the same. \n",
    "# Here we say that `mostly true` is stays the same and all other outcomes are weighted\n",
    "# to equal the same as `mostly true`\n",
    "\n",
    "###### THESE CLASS WEIGHTS ARE SUBJECT TO CHANGE BASED ON MODEL PERFORMANCE ######\n",
    "\n",
    "## mostly true = 1\n",
    "## mix of T/F ~ 7\n",
    "## mostly false ~ 21\n",
    "## no facts ~ 6\n",
    "\n",
    "class_weight = {0: 21.,\n",
    "                1: 6.,\n",
    "                2: 7.,\n",
    "                3: 1.}\n",
    "\n",
    "## insert above parameter into .fit() function of model as **class_weight**"
   ]
  },
  {
   "cell_type": "code",
   "execution_count": 4,
   "metadata": {},
   "outputs": [],
   "source": [
    "import mord as m\n",
    "from sklearn.linear_model import LogisticRegression\n",
    "from sklearn.model_selection import train_test_split\n",
    "\n",
    "tr_feat, test_feat, tr_out, test_out = train_test_split(\n",
    "   df.drop(columns='Rating'),      # features\n",
    "   df.Rating,    # outcome\n",
    "   random_state=0,\n",
    "   test_size=0.20, # percentage of data to use as the test set\n",
    "   \n",
    ")"
   ]
  },
  {
   "cell_type": "code",
   "execution_count": 7,
   "metadata": {},
   "outputs": [
    {
     "data": {
      "text/plain": [
       "0.7580645161290323"
      ]
     },
     "execution_count": 7,
     "metadata": {},
     "output_type": "execute_result"
    }
   ],
   "source": [
    "clf = LogisticRegression(random_state=0, solver='sag',\n",
    "                         multi_class='multinomial').fit(tr_feat, tr_out)\n",
    "\n",
    "preds = clf.predict(test_feat)\n",
    "\n",
    "clf.predict_proba(test_feat) \n",
    "\n",
    "clf.score(test_feat, test_out)"
   ]
  },
  {
   "cell_type": "code",
   "execution_count": 12,
   "metadata": {},
   "outputs": [],
   "source": [
    "from sklearn.preprocessing import MinMaxScaler\n",
    "from sklearn.preprocessing import RobustScaler\n",
    "from sklearn.preprocessing import Normalizer\n",
    "from sklearn.preprocessing import StandardScaler\n",
    "\n",
    "from sklearn.feature_selection import SelectKBest\n",
    "from sklearn.feature_selection import RFECV\n",
    "from sklearn.feature_selection import chi2\n",
    "from sklearn.feature_selection import f_classif\n",
    "\n",
    "from sklearn.neural_network import MLPRegressor\n",
    "\n",
    "\n",
    "from sklearn.model_selection import GridSearchCV\n",
    "from sklearn.pipeline import make_pipeline "
   ]
  },
  {
   "cell_type": "code",
   "execution_count": 70,
   "metadata": {},
   "outputs": [
    {
     "name": "stderr",
     "output_type": "stream",
     "text": [
      "c:\\python\\python37-32\\lib\\site-packages\\sklearn\\model_selection\\_search.py:841: DeprecationWarning: The default of the `iid` parameter will change from True to False in version 0.22 and will be removed in 0.24. This will change numeric results when test-set sizes are unequal.\n",
      "  DeprecationWarning)\n"
     ]
    }
   ],
   "source": [
    "### Multi-layer Perceptron\n",
    "mod = MLPRegressor(random_state=0)\n",
    "\n",
    "scal = RobustScaler()\n",
    "select_k_best = SelectKBest(f_classif)\n",
    "m_pipe = make_pipeline(scal, select_k_best, mod)\n",
    "\n",
    "m_param_grid = {\n",
    "                'mlpregressor__activation':['relu', 'logistic'], \n",
    "                'mlpregressor__learning_rate':['adaptive'],\n",
    "                'mlpregressor__solver':['lbfgs', 'adam'],\n",
    "                'mlpregressor__hidden_layer_sizes':[(33,33,33), (500)]}\n",
    "#mod.early_stopping=True # terminate training when validation score is not improving\n",
    "mod.shuffle=True # shuffle samples when training\n",
    "\n",
    "mlp = GridSearchCV(m_pipe, m_param_grid, cv=3, n_jobs=-1)\n",
    "mlp.fit(tr_feat, tr_out);"
   ]
  },
  {
   "cell_type": "code",
   "execution_count": 73,
   "metadata": {},
   "outputs": [
    {
     "data": {
      "text/plain": [
       "0.34078457159389053"
      ]
     },
     "execution_count": 73,
     "metadata": {},
     "output_type": "execute_result"
    }
   ],
   "source": [
    "mlp.score(test_feat, test_out)"
   ]
  },
  {
   "cell_type": "code",
   "execution_count": 72,
   "metadata": {},
   "outputs": [
    {
     "data": {
      "text/plain": [
       "{'mlpregressor__activation': 'logistic',\n",
       " 'mlpregressor__hidden_layer_sizes': 500,\n",
       " 'mlpregressor__learning_rate': 'adaptive',\n",
       " 'mlpregressor__solver': 'adam'}"
      ]
     },
     "execution_count": 72,
     "metadata": {},
     "output_type": "execute_result"
    }
   ],
   "source": [
    "mlp.best_params_"
   ]
  }
 ],
 "metadata": {
  "kernelspec": {
   "display_name": "Python 3",
   "language": "python",
   "name": "python3"
  },
  "language_info": {
   "codemirror_mode": {
    "name": "ipython",
    "version": 3
   },
   "file_extension": ".py",
   "mimetype": "text/x-python",
   "name": "python",
   "nbconvert_exporter": "python",
   "pygments_lexer": "ipython3",
   "version": "3.7.1"
  }
 },
 "nbformat": 4,
 "nbformat_minor": 2
}
