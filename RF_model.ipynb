{
 "cells": [
  {
   "cell_type": "markdown",
   "metadata": {},
   "source": [
    "# Random Forest - Connie"
   ]
  },
  {
   "cell_type": "markdown",
   "metadata": {},
   "source": [
    "## Import Packages"
   ]
  },
  {
   "cell_type": "code",
   "execution_count": 1,
   "metadata": {},
   "outputs": [],
   "source": [
    "import helper_RF as l\n",
    "import pandas as pd\n",
    "import numpy as np\n",
    "%matplotlib inline\n",
    "import seaborn as sns\n",
    "from sklearn.model_selection import train_test_split\n",
    "from sklearn.metrics import SCORERS\n",
    "import warnings\n",
    "warnings.filterwarnings('ignore') \n",
    "\n",
    "import matplotlib.pyplot as plt\n",
    "from sklearn.preprocessing import MinMaxScaler       # scaling data\n",
    "from sklearn.neighbors import KNeighborsRegressor    # regressor\n",
    "from sklearn.model_selection import GridSearchCV     # for grid search\n",
    "from sklearn.pipeline import make_pipeline           # for making pipelines\n",
    "from sklearn.feature_selection import SelectKBest\n",
    "from sklearn.feature_selection import f_regression\n",
    "from sklearn.feature_selection import mutual_info_regression\n",
    "from sklearn.metrics import mean_absolute_error\n",
    "from sklearn.preprocessing import PolynomialFeatures\n",
    "from sklearn.linear_model import LinearRegression\n",
    "from sklearn.model_selection import KFold\n",
    "from sklearn.model_selection import cross_val_score\n",
    "from sklearn.ensemble import RandomForestClassifier\n",
    "from sklearn.metrics import accuracy_score"
   ]
  },
  {
   "cell_type": "markdown",
   "metadata": {},
   "source": [
    "## Import Data"
   ]
  },
  {
   "cell_type": "code",
   "execution_count": 3,
   "metadata": {},
   "outputs": [],
   "source": [
    "#copy from the main file\n",
    "import math\n",
    "from datetime import datetime\n",
    "import numpy as np\n",
    "import pandas as pd\n",
    "import seaborn as sns # for visualiation\n",
    "import matplotlib.pyplot as plt # plotting\n",
    "import matplotlib\n",
    "matplotlib.style.use('ggplot')\n",
    "%matplotlib inline\n",
    "import altair as alt\n",
    "alt.renderers.enable('notebook')\n",
    "\n",
    "df = pd.read_csv('./facebook_with_reactions.csv')\n",
    "outcomes = df[['Rating']]\n",
    "\n",
    "## drop useless columns \n",
    "df = df.drop(columns=['Debate', 'status_link', 'permalink_url', 'Post URL', \n",
    "                      'status_message', 'link_name', 'share_count', 'Unnamed: 0', 'account_id',\n",
    "                      'status_id', 'status_type', 'status_published'])\n",
    "\n",
    "## remove spaces in columns\n",
    "df.columns = [c.replace(' ', '_') for c in df.columns]\n",
    "\n",
    "## Create copy of data for modeling\n",
    "model_data = df.copy()\n",
    "\n",
    "## change Rating to numeric for classification\n",
    "model_data.Rating = model_data.Rating.replace(['mostly false', 'no factual content', 'mixture of true and false', 'mostly true'], [0,1,2,3]).astype(int)\n",
    "model_data = model_data.drop(columns=['post_id', 'reaction_count'])\n",
    "#model_data = model_data.drop(columns=['Date_Published_2016-09-20','Date_Published_2016-09-21',\n",
    "#                                     'Date_Published_2016-09-22','Date_Published_2016-09-23',\n",
    "#                                     'Date_Published_2016-09-26','Date_Published_2016-09-27'])\n",
    "## make dummy columns (make categories numeric)\n",
    "model_data = pd.get_dummies(model_data)"
   ]
  },
  {
   "cell_type": "code",
   "execution_count": 3,
   "metadata": {},
   "outputs": [],
   "source": [
    "#save model_data as csv file\n",
    "model_data.to_csv(\"./model_data.csv\")"
   ]
  },
  {
   "cell_type": "code",
   "execution_count": 4,
   "metadata": {},
   "outputs": [],
   "source": [
    "#transfer the model data to one with attributes\n",
    "# and other with only the response (target), which is \"Rating\"\n",
    "df_target=model_data['Rating']\n",
    "df_dropped=model_data\n",
    "df_dropped=df_dropped.drop(columns=['Rating'])"
   ]
  },
  {
   "cell_type": "markdown",
   "metadata": {},
   "source": [
    "## Null Values"
   ]
  },
  {
   "cell_type": "code",
   "execution_count": 5,
   "metadata": {},
   "outputs": [],
   "source": [
    "#propagate non-null values forward, given that we do have null values in the dataset\n",
    "df_dropped.fillna(method='ffill',inplace=True)"
   ]
  },
  {
   "cell_type": "markdown",
   "metadata": {},
   "source": [
    "# Select Variables"
   ]
  },
  {
   "cell_type": "code",
   "execution_count": 6,
   "metadata": {},
   "outputs": [
    {
     "data": {
      "text/plain": [
       "['Rating',\n",
       " 'comment_count',\n",
       " 'num_reactions',\n",
       " 'num_comments',\n",
       " 'num_shares',\n",
       " 'num_likes',\n",
       " 'num_loves',\n",
       " 'num_wows',\n",
       " 'num_hahas',\n",
       " 'num_sads',\n",
       " 'num_angrys',\n",
       " 'Category_left',\n",
       " 'Category_mainstream',\n",
       " 'Category_right',\n",
       " 'Page_ABC News Politics',\n",
       " 'Page_Addicting Info',\n",
       " 'Page_CNN Politics',\n",
       " 'Page_Eagle Rising',\n",
       " 'Page_Occupy Democrats',\n",
       " 'Page_Politico',\n",
       " 'Page_Right Wing News',\n",
       " 'Page_The Other 98%',\n",
       " 'Date_Published_2016-09-19',\n",
       " 'Date_Published_2016-09-20',\n",
       " 'Date_Published_2016-09-21',\n",
       " 'Date_Published_2016-09-22',\n",
       " 'Date_Published_2016-09-23',\n",
       " 'Date_Published_2016-09-26',\n",
       " 'Date_Published_2016-09-27',\n",
       " 'Post_Type_link',\n",
       " 'Post_Type_photo',\n",
       " 'Post_Type_text',\n",
       " 'Post_Type_video']"
      ]
     },
     "execution_count": 6,
     "metadata": {},
     "output_type": "execute_result"
    }
   ],
   "source": [
    "#this gives a complet list of variables\n",
    "list(model_data.columns.values) "
   ]
  },
  {
   "cell_type": "code",
   "execution_count": 7,
   "metadata": {},
   "outputs": [
    {
     "name": "stdout",
     "output_type": "stream",
     "text": [
      "['num_comments', 'num_reactions', 'num_likes', 'comment_count', 'num_shares']\n"
     ]
    }
   ],
   "source": [
    "#this function gives the selected features, using Extra-Tree classifier\n",
    "df_selected_1=l.feature_selection(df_dropped,df_target,model_data)"
   ]
  },
  {
   "cell_type": "code",
   "execution_count": 8,
   "metadata": {},
   "outputs": [
    {
     "data": {
      "text/html": [
       "<div>\n",
       "<style scoped>\n",
       "    .dataframe tbody tr th:only-of-type {\n",
       "        vertical-align: middle;\n",
       "    }\n",
       "\n",
       "    .dataframe tbody tr th {\n",
       "        vertical-align: top;\n",
       "    }\n",
       "\n",
       "    .dataframe thead th {\n",
       "        text-align: right;\n",
       "    }\n",
       "</style>\n",
       "<table border=\"1\" class=\"dataframe\">\n",
       "  <thead>\n",
       "    <tr style=\"text-align: right;\">\n",
       "      <th></th>\n",
       "      <th>num_comments</th>\n",
       "      <th>num_reactions</th>\n",
       "      <th>num_likes</th>\n",
       "      <th>comment_count</th>\n",
       "      <th>num_shares</th>\n",
       "    </tr>\n",
       "  </thead>\n",
       "  <tbody>\n",
       "    <tr>\n",
       "      <th>count</th>\n",
       "      <td>2166.000000</td>\n",
       "      <td>2166.000000</td>\n",
       "      <td>2166.000000</td>\n",
       "      <td>2166.000000</td>\n",
       "      <td>2166.000000</td>\n",
       "    </tr>\n",
       "    <tr>\n",
       "      <th>mean</th>\n",
       "      <td>452.082179</td>\n",
       "      <td>5296.478763</td>\n",
       "      <td>4067.789935</td>\n",
       "      <td>441.455217</td>\n",
       "      <td>3834.459834</td>\n",
       "    </tr>\n",
       "    <tr>\n",
       "      <th>std</th>\n",
       "      <td>1510.787707</td>\n",
       "      <td>18159.453476</td>\n",
       "      <td>14940.861709</td>\n",
       "      <td>1324.224921</td>\n",
       "      <td>22345.925304</td>\n",
       "    </tr>\n",
       "    <tr>\n",
       "      <th>min</th>\n",
       "      <td>0.000000</td>\n",
       "      <td>0.000000</td>\n",
       "      <td>0.000000</td>\n",
       "      <td>0.000000</td>\n",
       "      <td>0.000000</td>\n",
       "    </tr>\n",
       "    <tr>\n",
       "      <th>25%</th>\n",
       "      <td>29.000000</td>\n",
       "      <td>115.000000</td>\n",
       "      <td>78.000000</td>\n",
       "      <td>34.000000</td>\n",
       "      <td>18.000000</td>\n",
       "    </tr>\n",
       "    <tr>\n",
       "      <th>50%</th>\n",
       "      <td>118.500000</td>\n",
       "      <td>480.000000</td>\n",
       "      <td>297.000000</td>\n",
       "      <td>126.500000</td>\n",
       "      <td>76.000000</td>\n",
       "    </tr>\n",
       "    <tr>\n",
       "      <th>75%</th>\n",
       "      <td>374.000000</td>\n",
       "      <td>2211.500000</td>\n",
       "      <td>1466.250000</td>\n",
       "      <td>386.000000</td>\n",
       "      <td>556.000000</td>\n",
       "    </tr>\n",
       "    <tr>\n",
       "      <th>max</th>\n",
       "      <td>35799.000000</td>\n",
       "      <td>330144.000000</td>\n",
       "      <td>280694.000000</td>\n",
       "      <td>32419.000000</td>\n",
       "      <td>401465.000000</td>\n",
       "    </tr>\n",
       "  </tbody>\n",
       "</table>\n",
       "</div>"
      ],
      "text/plain": [
       "       num_comments  num_reactions      num_likes  comment_count  \\\n",
       "count   2166.000000    2166.000000    2166.000000    2166.000000   \n",
       "mean     452.082179    5296.478763    4067.789935     441.455217   \n",
       "std     1510.787707   18159.453476   14940.861709    1324.224921   \n",
       "min        0.000000       0.000000       0.000000       0.000000   \n",
       "25%       29.000000     115.000000      78.000000      34.000000   \n",
       "50%      118.500000     480.000000     297.000000     126.500000   \n",
       "75%      374.000000    2211.500000    1466.250000     386.000000   \n",
       "max    35799.000000  330144.000000  280694.000000   32419.000000   \n",
       "\n",
       "          num_shares  \n",
       "count    2166.000000  \n",
       "mean     3834.459834  \n",
       "std     22345.925304  \n",
       "min         0.000000  \n",
       "25%        18.000000  \n",
       "50%        76.000000  \n",
       "75%       556.000000  \n",
       "max    401465.000000  "
      ]
     },
     "execution_count": 8,
     "metadata": {},
     "output_type": "execute_result"
    }
   ],
   "source": [
    "#take a look at the selected df\n",
    "df_selected_1.describe()"
   ]
  },
  {
   "cell_type": "markdown",
   "metadata": {},
   "source": [
    "## Split Data"
   ]
  },
  {
   "cell_type": "code",
   "execution_count": 9,
   "metadata": {},
   "outputs": [],
   "source": [
    "#Split Data as training and test, with size of 0.8 and 0.2\n",
    "\n",
    "#df_selected=selecting the ideal cols\n",
    "\n",
    "#df_target=with the outcome\n",
    "\n",
    "train_features,test_features,train_outcome,test_outcome=train_test_split(\n",
    "    df_selected_1,\n",
    "    df_target,\n",
    "    test_size=0.20,\n",
    "    random_state=11,\n",
    ")"
   ]
  },
  {
   "cell_type": "markdown",
   "metadata": {},
   "source": [
    "## Grid Search"
   ]
  },
  {
   "cell_type": "code",
   "execution_count": 10,
   "metadata": {},
   "outputs": [
    {
     "name": "stdout",
     "output_type": "stream",
     "text": [
      "{'max_features': 'sqrt', 'min_samples_split': 10, 'n_estimators': 7}\n"
     ]
    },
    {
     "data": {
      "image/png": "[encoded data removed]",
      "text/plain": [
       "<Figure size 432x288 with 1 Axes>"
      ]
     },
     "metadata": {
      "needs_background": "light"
     },
     "output_type": "display_data"
    }
   ],
   "source": [
    "#dropped is the dataframe with numeric values\n",
    "#selected is the one with all the selected variables\n",
    "\n",
    "l.model_selection_random_forest(df_selected_1,df_target,train_features,train_outcome)"
   ]
  },
  {
   "cell_type": "markdown",
   "metadata": {},
   "source": [
    "## Model Fitting"
   ]
  },
  {
   "cell_type": "code",
   "execution_count": 11,
   "metadata": {},
   "outputs": [
    {
     "data": {
      "text/plain": [
       "RandomForestClassifier(bootstrap='true',\n",
       "            class_weight={0: 1, 1: 50, 2: 50, 3: 50}, criterion='gini',\n",
       "            max_depth=None, max_features='auto', max_leaf_nodes=None,\n",
       "            min_impurity_decrease=0.0, min_impurity_split=None,\n",
       "            min_samples_leaf=1, min_samples_split=75,\n",
       "            min_weight_fraction_leaf=0.0, n_estimators=8, n_jobs=None,\n",
       "            oob_score=False, random_state=None, verbose=0,\n",
       "            warm_start=False)"
      ]
     },
     "execution_count": 11,
     "metadata": {},
     "output_type": "execute_result"
    }
   ],
   "source": [
    "#fill in all the best parameters\n",
    "w=50\n",
    "best_model_1=RandomForestClassifier(bootstrap='true',max_features='auto',min_samples_split=75,n_estimators=8,class_weight={0: 1, 1: w,2:w,3:w})\n",
    "best_model_1.fit(train_features,train_outcome) #79.7\n"
   ]
  },
  {
   "cell_type": "markdown",
   "metadata": {},
   "source": [
    "## Graphs"
   ]
  },
  {
   "cell_type": "code",
   "execution_count": 13,
   "metadata": {},
   "outputs": [
    {
     "data": {
      "text/plain": [
       "<matplotlib.collections.PathCollection at 0x1121489b0>"
      ]
     },
     "execution_count": 13,
     "metadata": {},
     "output_type": "execute_result"
    },
    {
     "data": {
      "image/png": "[encoded data removed]",
      "text/plain": [
       "<Figure size 432x288 with 1 Axes>"
      ]
     },
     "metadata": {
      "needs_background": "light"
     },
     "output_type": "display_data"
    }
   ],
   "source": [
    "plt.scatter(best_model_1.predict(test_features),test_outcome)"
   ]
  },
  {
   "cell_type": "markdown",
   "metadata": {},
   "source": [
    "## Cross Validation"
   ]
  },
  {
   "cell_type": "code",
   "execution_count": 14,
   "metadata": {},
   "outputs": [
    {
     "data": {
      "text/plain": [
       "0.7601479915433403"
      ]
     },
     "execution_count": 14,
     "metadata": {},
     "output_type": "execute_result"
    }
   ],
   "source": [
    "#cross validation by our best model\n",
    "l.cross_val(test_features,test_outcome,best_model_1)"
   ]
  },
  {
   "cell_type": "code",
   "execution_count": 15,
   "metadata": {},
   "outputs": [
    {
     "data": {
      "text/plain": [
       "0.804147465437788"
      ]
     },
     "execution_count": 15,
     "metadata": {},
     "output_type": "execute_result"
    }
   ],
   "source": [
    "#see the accuracy score\n",
    "accuracy_score(test_outcome, best_model_1.predict(test_features))"
   ]
  },
  {
   "cell_type": "code",
   "execution_count": 16,
   "metadata": {},
   "outputs": [
    {
     "data": {
      "text/plain": [
       "array([3, 3, 3, 3, 3, 3, 3, 1, 3, 3, 3, 3, 3, 3, 3, 3, 3, 3, 3, 3, 3, 3,\n",
       "       3, 3, 3, 3, 3, 3, 3, 3, 3, 3, 3, 3, 1, 3, 3, 3, 3, 1, 3, 3, 1, 3,\n",
       "       3, 3, 3, 3, 3, 3, 3, 3, 3, 3, 3, 3, 3, 3, 3, 3, 3, 3, 3, 3, 3, 3,\n",
       "       3, 3, 3, 3, 3, 3, 3, 3, 3, 3, 3, 3, 3, 3, 3, 3, 3, 3, 3, 3, 3, 3,\n",
       "       1, 3, 3, 3, 3, 3, 3, 3, 3, 3, 3, 3, 3, 3, 3, 3, 3, 3, 3, 3, 3, 3,\n",
       "       3, 3, 3, 3, 3, 3, 3, 3, 3, 3, 3, 3, 3, 3, 3, 3, 3, 3, 3, 3, 3, 3,\n",
       "       1, 3, 3, 3, 1, 3, 3, 3, 3, 3, 3, 3, 3, 1, 3, 3, 3, 3, 3, 3, 3, 3,\n",
       "       3, 3, 3, 3, 3, 3, 3, 3, 3, 3, 3, 3, 3, 3, 3, 3, 3, 1, 3, 3, 3, 3,\n",
       "       3, 3, 3, 3, 3, 3, 3, 3, 3, 3, 3, 3, 3, 3, 3, 3, 3, 3, 3, 3, 3, 3,\n",
       "       3, 3, 1, 3, 3, 3, 3, 3, 3, 3, 3, 3, 1, 3, 3, 3, 3, 3, 1, 3, 2, 3,\n",
       "       3, 3, 3, 3, 3, 3, 3, 3, 3, 3, 3, 3, 3, 3, 3, 3, 3, 3, 3, 3, 3, 3,\n",
       "       3, 1, 3, 3, 3, 3, 3, 3, 3, 3, 3, 3, 3, 3, 3, 3, 3, 3, 3, 3, 3, 3,\n",
       "       3, 3, 3, 3, 3, 3, 3, 3, 3, 3, 1, 3, 3, 3, 1, 3, 3, 3, 3, 3, 3, 1,\n",
       "       3, 3, 1, 1, 3, 3, 3, 3, 1, 3, 1, 3, 3, 3, 3, 3, 3, 3, 3, 3, 3, 3,\n",
       "       3, 3, 3, 3, 3, 3, 3, 3, 3, 3, 3, 3, 3, 3, 3, 3, 3, 3, 3, 1, 3, 3,\n",
       "       3, 3, 3, 3, 1, 3, 3, 3, 3, 3, 3, 3, 3, 3, 3, 3, 3, 3, 3, 3, 3, 3,\n",
       "       3, 3, 3, 3, 3, 3, 3, 3, 3, 3, 3, 3, 3, 3, 3, 1, 3, 3, 1, 3, 3, 3,\n",
       "       2, 3, 1, 3, 3, 3, 3, 3, 3, 3, 3, 3, 3, 1, 3, 3, 3, 3, 3, 3, 3, 1,\n",
       "       3, 3, 3, 3, 3, 3, 3, 3, 3, 3, 3, 3, 3, 3, 3, 3, 3, 3, 3, 3, 3, 3,\n",
       "       3, 3, 3, 3, 3, 3, 3, 3, 3, 3, 3, 3, 3, 3, 1, 3])"
      ]
     },
     "execution_count": 16,
     "metadata": {},
     "output_type": "execute_result"
    }
   ],
   "source": [
    "#see the predictions\n",
    "best_model_1.predict(test_features)"
   ]
  },
  {
   "cell_type": "code",
   "execution_count": 17,
   "metadata": {},
   "outputs": [
    {
     "data": {
      "text/plain": [
       "array([[  0,   1,   0,  12],\n",
       "       [  0,  20,   2,  27],\n",
       "       [  0,   2,   0,  36],\n",
       "       [  0,   5,   0, 329]])"
      ]
     },
     "execution_count": 17,
     "metadata": {},
     "output_type": "execute_result"
    }
   ],
   "source": [
    "#the result of confusion matrix\n",
    "from sklearn.metrics import confusion_matrix\n",
    "y_pred=best_model_1.predict(test_features)\n",
    "confusion_matrix(test_outcome, y_pred)"
   ]
  },
  {
   "cell_type": "code",
   "execution_count": 18,
   "metadata": {},
   "outputs": [
    {
     "data": {
      "text/plain": [
       "0.7448124041357714"
      ]
     },
     "execution_count": 18,
     "metadata": {},
     "output_type": "execute_result"
    }
   ],
   "source": [
    "#the F1 score, \n",
    "from sklearn.metrics import f1_score\n",
    "f1_score(test_outcome, y_pred,average=\"weighted\")"
   ]
  }
 ],
 "metadata": {
  "kernelspec": {
   "display_name": "Python 3",
   "language": "python",
   "name": "python3"
  },
  "language_info": {
   "codemirror_mode": {
    "name": "ipython",
    "version": 3
   },
   "file_extension": ".py",
   "mimetype": "text/x-python",
   "name": "python",
   "nbconvert_exporter": "python",
   "pygments_lexer": "ipython3",
   "version": "3.6.0"
  }
 },
 "nbformat": 4,
 "nbformat_minor": 2
}
